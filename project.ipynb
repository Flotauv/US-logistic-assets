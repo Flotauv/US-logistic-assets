{
 "cells": [
  {
   "cell_type": "markdown",
   "id": "88814030",
   "metadata": {},
   "source": [
    "# US logistic details operations"
   ]
  },
  {
   "cell_type": "code",
   "execution_count": 1,
   "id": "56f4347a",
   "metadata": {},
   "outputs": [],
   "source": [
    "import numpy as np\n",
    "import pandas as pd\n",
    "import matplotlib.pyplot as plt\n",
    "import seaborn as sns"
   ]
  },
  {
   "cell_type": "code",
   "execution_count": 2,
   "id": "a7e2f36e",
   "metadata": {},
   "outputs": [],
   "source": [
    "import time\n",
    "import datetime\n",
    "import math"
   ]
  },
  {
   "cell_type": "code",
   "execution_count": 3,
   "id": "d3e9ef3c",
   "metadata": {},
   "outputs": [],
   "source": [
    "FILES = 'Dataset/logistics_shipments_dataset.csv'"
   ]
  },
  {
   "cell_type": "markdown",
   "id": "2c093abd",
   "metadata": {},
   "source": [
    "## Dataset exploration"
   ]
  },
  {
   "cell_type": "code",
   "execution_count": 4,
   "id": "fac0d58a",
   "metadata": {},
   "outputs": [],
   "source": [
    "df = pd.read_csv(FILES)"
   ]
  },
  {
   "cell_type": "code",
   "execution_count": 5,
   "id": "d33820f6",
   "metadata": {},
   "outputs": [
    {
     "data": {
      "text/html": [
       "<div>\n",
       "<style scoped>\n",
       "    .dataframe tbody tr th:only-of-type {\n",
       "        vertical-align: middle;\n",
       "    }\n",
       "\n",
       "    .dataframe tbody tr th {\n",
       "        vertical-align: top;\n",
       "    }\n",
       "\n",
       "    .dataframe thead th {\n",
       "        text-align: right;\n",
       "    }\n",
       "</style>\n",
       "<table border=\"1\" class=\"dataframe\">\n",
       "  <thead>\n",
       "    <tr style=\"text-align: right;\">\n",
       "      <th></th>\n",
       "      <th>Shipment_ID</th>\n",
       "      <th>Origin_Warehouse</th>\n",
       "      <th>Destination</th>\n",
       "      <th>Carrier</th>\n",
       "      <th>Shipment_Date</th>\n",
       "      <th>Delivery_Date</th>\n",
       "      <th>Weight_kg</th>\n",
       "      <th>Cost</th>\n",
       "      <th>Status</th>\n",
       "      <th>Distance_miles</th>\n",
       "      <th>Transit_Days</th>\n",
       "    </tr>\n",
       "  </thead>\n",
       "  <tbody>\n",
       "    <tr>\n",
       "      <th>0</th>\n",
       "      <td>SH10000</td>\n",
       "      <td>Warehouse_MIA</td>\n",
       "      <td>San Francisco</td>\n",
       "      <td>UPS</td>\n",
       "      <td>2023-10-02</td>\n",
       "      <td>2023-10-04</td>\n",
       "      <td>25.7</td>\n",
       "      <td>67.46</td>\n",
       "      <td>Delivered</td>\n",
       "      <td>291</td>\n",
       "      <td>2</td>\n",
       "    </tr>\n",
       "    <tr>\n",
       "      <th>1</th>\n",
       "      <td>SH10001</td>\n",
       "      <td>Warehouse_MIA</td>\n",
       "      <td>Atlanta</td>\n",
       "      <td>DHL</td>\n",
       "      <td>2023-12-06</td>\n",
       "      <td>2023-12-09</td>\n",
       "      <td>38.9</td>\n",
       "      <td>268.85</td>\n",
       "      <td>Delivered</td>\n",
       "      <td>1225</td>\n",
       "      <td>3</td>\n",
       "    </tr>\n",
       "    <tr>\n",
       "      <th>2</th>\n",
       "      <td>SH10002</td>\n",
       "      <td>Warehouse_LA</td>\n",
       "      <td>Houston</td>\n",
       "      <td>DHL</td>\n",
       "      <td>2023-09-18</td>\n",
       "      <td>2023-09-20</td>\n",
       "      <td>37.2</td>\n",
       "      <td>74.35</td>\n",
       "      <td>Delivered</td>\n",
       "      <td>220</td>\n",
       "      <td>2</td>\n",
       "    </tr>\n",
       "    <tr>\n",
       "      <th>3</th>\n",
       "      <td>SH10003</td>\n",
       "      <td>Warehouse_BOS</td>\n",
       "      <td>Seattle</td>\n",
       "      <td>OnTrac</td>\n",
       "      <td>2023-01-26</td>\n",
       "      <td>2023-02-04</td>\n",
       "      <td>42.6</td>\n",
       "      <td>187.04</td>\n",
       "      <td>Delivered</td>\n",
       "      <td>1156</td>\n",
       "      <td>9</td>\n",
       "    </tr>\n",
       "    <tr>\n",
       "      <th>4</th>\n",
       "      <td>SH10004</td>\n",
       "      <td>Warehouse_SF</td>\n",
       "      <td>Dallas</td>\n",
       "      <td>OnTrac</td>\n",
       "      <td>2023-06-03</td>\n",
       "      <td>2023-06-06</td>\n",
       "      <td>7.9</td>\n",
       "      <td>120.01</td>\n",
       "      <td>Delivered</td>\n",
       "      <td>1017</td>\n",
       "      <td>3</td>\n",
       "    </tr>\n",
       "    <tr>\n",
       "      <th>...</th>\n",
       "      <td>...</td>\n",
       "      <td>...</td>\n",
       "      <td>...</td>\n",
       "      <td>...</td>\n",
       "      <td>...</td>\n",
       "      <td>...</td>\n",
       "      <td>...</td>\n",
       "      <td>...</td>\n",
       "      <td>...</td>\n",
       "      <td>...</td>\n",
       "      <td>...</td>\n",
       "    </tr>\n",
       "    <tr>\n",
       "      <th>1995</th>\n",
       "      <td>SH11995</td>\n",
       "      <td>Warehouse_BOS</td>\n",
       "      <td>San Francisco</td>\n",
       "      <td>FedEx</td>\n",
       "      <td>2023-01-18</td>\n",
       "      <td>2023-01-23</td>\n",
       "      <td>7.9</td>\n",
       "      <td>217.78</td>\n",
       "      <td>Delivered</td>\n",
       "      <td>1616</td>\n",
       "      <td>5</td>\n",
       "    </tr>\n",
       "    <tr>\n",
       "      <th>1996</th>\n",
       "      <td>SH11996</td>\n",
       "      <td>Warehouse_HOU</td>\n",
       "      <td>Phoenix</td>\n",
       "      <td>UPS</td>\n",
       "      <td>2023-10-27</td>\n",
       "      <td>2023-11-01</td>\n",
       "      <td>36.5</td>\n",
       "      <td>279.47</td>\n",
       "      <td>Delivered</td>\n",
       "      <td>1708</td>\n",
       "      <td>5</td>\n",
       "    </tr>\n",
       "    <tr>\n",
       "      <th>1997</th>\n",
       "      <td>SH11997</td>\n",
       "      <td>Warehouse_HOU</td>\n",
       "      <td>Portland</td>\n",
       "      <td>LaserShip</td>\n",
       "      <td>2023-02-13</td>\n",
       "      <td>2023-02-19</td>\n",
       "      <td>11.4</td>\n",
       "      <td>250.32</td>\n",
       "      <td>Delivered</td>\n",
       "      <td>1912</td>\n",
       "      <td>6</td>\n",
       "    </tr>\n",
       "    <tr>\n",
       "      <th>1998</th>\n",
       "      <td>SH11998</td>\n",
       "      <td>Warehouse_SEA</td>\n",
       "      <td>Detroit</td>\n",
       "      <td>USPS</td>\n",
       "      <td>2023-10-17</td>\n",
       "      <td>2023-10-22</td>\n",
       "      <td>10.9</td>\n",
       "      <td>272.31</td>\n",
       "      <td>Delivered</td>\n",
       "      <td>2188</td>\n",
       "      <td>5</td>\n",
       "    </tr>\n",
       "    <tr>\n",
       "      <th>1999</th>\n",
       "      <td>SH11999</td>\n",
       "      <td>Warehouse_MIA</td>\n",
       "      <td>Portland</td>\n",
       "      <td>OnTrac</td>\n",
       "      <td>2023-07-08</td>\n",
       "      <td>NaN</td>\n",
       "      <td>49.5</td>\n",
       "      <td>360.74</td>\n",
       "      <td>Delivered</td>\n",
       "      <td>2321</td>\n",
       "      <td>7</td>\n",
       "    </tr>\n",
       "  </tbody>\n",
       "</table>\n",
       "<p>2000 rows × 11 columns</p>\n",
       "</div>"
      ],
      "text/plain": [
       "     Shipment_ID Origin_Warehouse    Destination    Carrier Shipment_Date  \\\n",
       "0        SH10000    Warehouse_MIA  San Francisco        UPS    2023-10-02   \n",
       "1        SH10001    Warehouse_MIA        Atlanta        DHL    2023-12-06   \n",
       "2        SH10002     Warehouse_LA        Houston        DHL    2023-09-18   \n",
       "3        SH10003    Warehouse_BOS        Seattle     OnTrac    2023-01-26   \n",
       "4        SH10004     Warehouse_SF         Dallas     OnTrac    2023-06-03   \n",
       "...          ...              ...            ...        ...           ...   \n",
       "1995     SH11995    Warehouse_BOS  San Francisco      FedEx    2023-01-18   \n",
       "1996     SH11996    Warehouse_HOU        Phoenix        UPS    2023-10-27   \n",
       "1997     SH11997    Warehouse_HOU       Portland  LaserShip    2023-02-13   \n",
       "1998     SH11998    Warehouse_SEA        Detroit       USPS    2023-10-17   \n",
       "1999     SH11999    Warehouse_MIA       Portland     OnTrac    2023-07-08   \n",
       "\n",
       "     Delivery_Date  Weight_kg    Cost     Status  Distance_miles  Transit_Days  \n",
       "0       2023-10-04       25.7   67.46  Delivered             291             2  \n",
       "1       2023-12-09       38.9  268.85  Delivered            1225             3  \n",
       "2       2023-09-20       37.2   74.35  Delivered             220             2  \n",
       "3       2023-02-04       42.6  187.04  Delivered            1156             9  \n",
       "4       2023-06-06        7.9  120.01  Delivered            1017             3  \n",
       "...            ...        ...     ...        ...             ...           ...  \n",
       "1995    2023-01-23        7.9  217.78  Delivered            1616             5  \n",
       "1996    2023-11-01       36.5  279.47  Delivered            1708             5  \n",
       "1997    2023-02-19       11.4  250.32  Delivered            1912             6  \n",
       "1998    2023-10-22       10.9  272.31  Delivered            2188             5  \n",
       "1999           NaN       49.5  360.74  Delivered            2321             7  \n",
       "\n",
       "[2000 rows x 11 columns]"
      ]
     },
     "execution_count": 5,
     "metadata": {},
     "output_type": "execute_result"
    }
   ],
   "source": [
    "df"
   ]
  },
  {
   "cell_type": "code",
   "execution_count": 6,
   "id": "b3d4d3a7",
   "metadata": {},
   "outputs": [
    {
     "name": "stdout",
     "output_type": "stream",
     "text": [
      "<class 'pandas.core.frame.DataFrame'>\n",
      "RangeIndex: 2000 entries, 0 to 1999\n",
      "Data columns (total 11 columns):\n",
      " #   Column            Non-Null Count  Dtype  \n",
      "---  ------            --------------  -----  \n",
      " 0   Shipment_ID       2000 non-null   object \n",
      " 1   Origin_Warehouse  2000 non-null   object \n",
      " 2   Destination       2000 non-null   object \n",
      " 3   Carrier           2000 non-null   object \n",
      " 4   Shipment_Date     2000 non-null   object \n",
      " 5   Delivery_Date     1968 non-null   object \n",
      " 6   Weight_kg         2000 non-null   float64\n",
      " 7   Cost              1959 non-null   float64\n",
      " 8   Status            2000 non-null   object \n",
      " 9   Distance_miles    2000 non-null   int64  \n",
      " 10  Transit_Days      2000 non-null   int64  \n",
      "dtypes: float64(2), int64(2), object(7)\n",
      "memory usage: 172.0+ KB\n"
     ]
    }
   ],
   "source": [
    "df.info()"
   ]
  },
  {
   "cell_type": "code",
   "execution_count": 7,
   "id": "57a7297c",
   "metadata": {},
   "outputs": [
    {
     "data": {
      "text/plain": [
       "Shipment_ID          object\n",
       "Origin_Warehouse     object\n",
       "Destination          object\n",
       "Carrier              object\n",
       "Shipment_Date        object\n",
       "Delivery_Date        object\n",
       "Weight_kg           float64\n",
       "Cost                float64\n",
       "Status               object\n",
       "Distance_miles        int64\n",
       "Transit_Days          int64\n",
       "dtype: object"
      ]
     },
     "execution_count": 7,
     "metadata": {},
     "output_type": "execute_result"
    }
   ],
   "source": [
    "df.dtypes"
   ]
  },
  {
   "cell_type": "code",
   "execution_count": 8,
   "id": "c5d7855a",
   "metadata": {},
   "outputs": [],
   "source": [
    "df['Shipment_Date_time'] = pd.to_datetime(df['Shipment_Date'])"
   ]
  },
  {
   "cell_type": "code",
   "execution_count": 9,
   "id": "82fe3852",
   "metadata": {},
   "outputs": [
    {
     "data": {
      "text/html": [
       "<div>\n",
       "<style scoped>\n",
       "    .dataframe tbody tr th:only-of-type {\n",
       "        vertical-align: middle;\n",
       "    }\n",
       "\n",
       "    .dataframe tbody tr th {\n",
       "        vertical-align: top;\n",
       "    }\n",
       "\n",
       "    .dataframe thead th {\n",
       "        text-align: right;\n",
       "    }\n",
       "</style>\n",
       "<table border=\"1\" class=\"dataframe\">\n",
       "  <thead>\n",
       "    <tr style=\"text-align: right;\">\n",
       "      <th></th>\n",
       "      <th>Shipment_ID</th>\n",
       "      <th>Origin_Warehouse</th>\n",
       "      <th>Destination</th>\n",
       "      <th>Carrier</th>\n",
       "      <th>Shipment_Date</th>\n",
       "      <th>Delivery_Date</th>\n",
       "      <th>Weight_kg</th>\n",
       "      <th>Cost</th>\n",
       "      <th>Status</th>\n",
       "      <th>Distance_miles</th>\n",
       "      <th>Transit_Days</th>\n",
       "      <th>Shipment_Date_time</th>\n",
       "    </tr>\n",
       "  </thead>\n",
       "  <tbody>\n",
       "    <tr>\n",
       "      <th>0</th>\n",
       "      <td>SH10000</td>\n",
       "      <td>Warehouse_MIA</td>\n",
       "      <td>San Francisco</td>\n",
       "      <td>UPS</td>\n",
       "      <td>2023-10-02</td>\n",
       "      <td>2023-10-04</td>\n",
       "      <td>25.7</td>\n",
       "      <td>67.46</td>\n",
       "      <td>Delivered</td>\n",
       "      <td>291</td>\n",
       "      <td>2</td>\n",
       "      <td>2023-10-02</td>\n",
       "    </tr>\n",
       "    <tr>\n",
       "      <th>1</th>\n",
       "      <td>SH10001</td>\n",
       "      <td>Warehouse_MIA</td>\n",
       "      <td>Atlanta</td>\n",
       "      <td>DHL</td>\n",
       "      <td>2023-12-06</td>\n",
       "      <td>2023-12-09</td>\n",
       "      <td>38.9</td>\n",
       "      <td>268.85</td>\n",
       "      <td>Delivered</td>\n",
       "      <td>1225</td>\n",
       "      <td>3</td>\n",
       "      <td>2023-12-06</td>\n",
       "    </tr>\n",
       "    <tr>\n",
       "      <th>2</th>\n",
       "      <td>SH10002</td>\n",
       "      <td>Warehouse_LA</td>\n",
       "      <td>Houston</td>\n",
       "      <td>DHL</td>\n",
       "      <td>2023-09-18</td>\n",
       "      <td>2023-09-20</td>\n",
       "      <td>37.2</td>\n",
       "      <td>74.35</td>\n",
       "      <td>Delivered</td>\n",
       "      <td>220</td>\n",
       "      <td>2</td>\n",
       "      <td>2023-09-18</td>\n",
       "    </tr>\n",
       "    <tr>\n",
       "      <th>3</th>\n",
       "      <td>SH10003</td>\n",
       "      <td>Warehouse_BOS</td>\n",
       "      <td>Seattle</td>\n",
       "      <td>OnTrac</td>\n",
       "      <td>2023-01-26</td>\n",
       "      <td>2023-02-04</td>\n",
       "      <td>42.6</td>\n",
       "      <td>187.04</td>\n",
       "      <td>Delivered</td>\n",
       "      <td>1156</td>\n",
       "      <td>9</td>\n",
       "      <td>2023-01-26</td>\n",
       "    </tr>\n",
       "    <tr>\n",
       "      <th>4</th>\n",
       "      <td>SH10004</td>\n",
       "      <td>Warehouse_SF</td>\n",
       "      <td>Dallas</td>\n",
       "      <td>OnTrac</td>\n",
       "      <td>2023-06-03</td>\n",
       "      <td>2023-06-06</td>\n",
       "      <td>7.9</td>\n",
       "      <td>120.01</td>\n",
       "      <td>Delivered</td>\n",
       "      <td>1017</td>\n",
       "      <td>3</td>\n",
       "      <td>2023-06-03</td>\n",
       "    </tr>\n",
       "    <tr>\n",
       "      <th>...</th>\n",
       "      <td>...</td>\n",
       "      <td>...</td>\n",
       "      <td>...</td>\n",
       "      <td>...</td>\n",
       "      <td>...</td>\n",
       "      <td>...</td>\n",
       "      <td>...</td>\n",
       "      <td>...</td>\n",
       "      <td>...</td>\n",
       "      <td>...</td>\n",
       "      <td>...</td>\n",
       "      <td>...</td>\n",
       "    </tr>\n",
       "    <tr>\n",
       "      <th>1995</th>\n",
       "      <td>SH11995</td>\n",
       "      <td>Warehouse_BOS</td>\n",
       "      <td>San Francisco</td>\n",
       "      <td>FedEx</td>\n",
       "      <td>2023-01-18</td>\n",
       "      <td>2023-01-23</td>\n",
       "      <td>7.9</td>\n",
       "      <td>217.78</td>\n",
       "      <td>Delivered</td>\n",
       "      <td>1616</td>\n",
       "      <td>5</td>\n",
       "      <td>2023-01-18</td>\n",
       "    </tr>\n",
       "    <tr>\n",
       "      <th>1996</th>\n",
       "      <td>SH11996</td>\n",
       "      <td>Warehouse_HOU</td>\n",
       "      <td>Phoenix</td>\n",
       "      <td>UPS</td>\n",
       "      <td>2023-10-27</td>\n",
       "      <td>2023-11-01</td>\n",
       "      <td>36.5</td>\n",
       "      <td>279.47</td>\n",
       "      <td>Delivered</td>\n",
       "      <td>1708</td>\n",
       "      <td>5</td>\n",
       "      <td>2023-10-27</td>\n",
       "    </tr>\n",
       "    <tr>\n",
       "      <th>1997</th>\n",
       "      <td>SH11997</td>\n",
       "      <td>Warehouse_HOU</td>\n",
       "      <td>Portland</td>\n",
       "      <td>LaserShip</td>\n",
       "      <td>2023-02-13</td>\n",
       "      <td>2023-02-19</td>\n",
       "      <td>11.4</td>\n",
       "      <td>250.32</td>\n",
       "      <td>Delivered</td>\n",
       "      <td>1912</td>\n",
       "      <td>6</td>\n",
       "      <td>2023-02-13</td>\n",
       "    </tr>\n",
       "    <tr>\n",
       "      <th>1998</th>\n",
       "      <td>SH11998</td>\n",
       "      <td>Warehouse_SEA</td>\n",
       "      <td>Detroit</td>\n",
       "      <td>USPS</td>\n",
       "      <td>2023-10-17</td>\n",
       "      <td>2023-10-22</td>\n",
       "      <td>10.9</td>\n",
       "      <td>272.31</td>\n",
       "      <td>Delivered</td>\n",
       "      <td>2188</td>\n",
       "      <td>5</td>\n",
       "      <td>2023-10-17</td>\n",
       "    </tr>\n",
       "    <tr>\n",
       "      <th>1999</th>\n",
       "      <td>SH11999</td>\n",
       "      <td>Warehouse_MIA</td>\n",
       "      <td>Portland</td>\n",
       "      <td>OnTrac</td>\n",
       "      <td>2023-07-08</td>\n",
       "      <td>NaN</td>\n",
       "      <td>49.5</td>\n",
       "      <td>360.74</td>\n",
       "      <td>Delivered</td>\n",
       "      <td>2321</td>\n",
       "      <td>7</td>\n",
       "      <td>2023-07-08</td>\n",
       "    </tr>\n",
       "  </tbody>\n",
       "</table>\n",
       "<p>2000 rows × 12 columns</p>\n",
       "</div>"
      ],
      "text/plain": [
       "     Shipment_ID Origin_Warehouse    Destination    Carrier Shipment_Date  \\\n",
       "0        SH10000    Warehouse_MIA  San Francisco        UPS    2023-10-02   \n",
       "1        SH10001    Warehouse_MIA        Atlanta        DHL    2023-12-06   \n",
       "2        SH10002     Warehouse_LA        Houston        DHL    2023-09-18   \n",
       "3        SH10003    Warehouse_BOS        Seattle     OnTrac    2023-01-26   \n",
       "4        SH10004     Warehouse_SF         Dallas     OnTrac    2023-06-03   \n",
       "...          ...              ...            ...        ...           ...   \n",
       "1995     SH11995    Warehouse_BOS  San Francisco      FedEx    2023-01-18   \n",
       "1996     SH11996    Warehouse_HOU        Phoenix        UPS    2023-10-27   \n",
       "1997     SH11997    Warehouse_HOU       Portland  LaserShip    2023-02-13   \n",
       "1998     SH11998    Warehouse_SEA        Detroit       USPS    2023-10-17   \n",
       "1999     SH11999    Warehouse_MIA       Portland     OnTrac    2023-07-08   \n",
       "\n",
       "     Delivery_Date  Weight_kg    Cost     Status  Distance_miles  \\\n",
       "0       2023-10-04       25.7   67.46  Delivered             291   \n",
       "1       2023-12-09       38.9  268.85  Delivered            1225   \n",
       "2       2023-09-20       37.2   74.35  Delivered             220   \n",
       "3       2023-02-04       42.6  187.04  Delivered            1156   \n",
       "4       2023-06-06        7.9  120.01  Delivered            1017   \n",
       "...            ...        ...     ...        ...             ...   \n",
       "1995    2023-01-23        7.9  217.78  Delivered            1616   \n",
       "1996    2023-11-01       36.5  279.47  Delivered            1708   \n",
       "1997    2023-02-19       11.4  250.32  Delivered            1912   \n",
       "1998    2023-10-22       10.9  272.31  Delivered            2188   \n",
       "1999           NaN       49.5  360.74  Delivered            2321   \n",
       "\n",
       "      Transit_Days Shipment_Date_time  \n",
       "0                2         2023-10-02  \n",
       "1                3         2023-12-06  \n",
       "2                2         2023-09-18  \n",
       "3                9         2023-01-26  \n",
       "4                3         2023-06-03  \n",
       "...            ...                ...  \n",
       "1995             5         2023-01-18  \n",
       "1996             5         2023-10-27  \n",
       "1997             6         2023-02-13  \n",
       "1998             5         2023-10-17  \n",
       "1999             7         2023-07-08  \n",
       "\n",
       "[2000 rows x 12 columns]"
      ]
     },
     "execution_count": 9,
     "metadata": {},
     "output_type": "execute_result"
    }
   ],
   "source": [
    "df"
   ]
  },
  {
   "cell_type": "markdown",
   "id": "472660e8",
   "metadata": {},
   "source": [
    "### Valeurs manquantes"
   ]
  },
  {
   "cell_type": "code",
   "execution_count": 10,
   "id": "e2b127d9",
   "metadata": {},
   "outputs": [
    {
     "data": {
      "text/plain": [
       "Shipment_ID            0\n",
       "Origin_Warehouse       0\n",
       "Destination            0\n",
       "Carrier                0\n",
       "Shipment_Date          0\n",
       "Delivery_Date         32\n",
       "Weight_kg              0\n",
       "Cost                  41\n",
       "Status                 0\n",
       "Distance_miles         0\n",
       "Transit_Days           0\n",
       "Shipment_Date_time     0\n",
       "dtype: int64"
      ]
     },
     "execution_count": 10,
     "metadata": {},
     "output_type": "execute_result"
    }
   ],
   "source": [
    "df.isna().sum()"
   ]
  },
  {
   "cell_type": "raw",
   "id": "415423bc",
   "metadata": {},
   "source": [
    "Les valeurs manquantes proviennent de deux attribus \"Delivery Date\" et \"Cost\".\n",
    "Pour ce qu'il en est de Delivery_Date , comme nous connaissons les valeurs correspondantes à \"Transit Days\", nous pouvons remplir la colonne. "
   ]
  },
  {
   "cell_type": "code",
   "execution_count": 11,
   "id": "84fdc836",
   "metadata": {},
   "outputs": [],
   "source": [
    "df['Delivery_Date'] = df['Shipment_Date_time']+pd.to_timedelta(df['Transit_Days'],unit='D')"
   ]
  },
  {
   "cell_type": "code",
   "execution_count": 12,
   "id": "0033c4b5",
   "metadata": {},
   "outputs": [],
   "source": [
    "df = df.drop(columns = ['Shipment_Date_time'])"
   ]
  },
  {
   "cell_type": "code",
   "execution_count": 13,
   "id": "fcf9ba2f",
   "metadata": {},
   "outputs": [
    {
     "data": {
      "text/html": [
       "<div>\n",
       "<style scoped>\n",
       "    .dataframe tbody tr th:only-of-type {\n",
       "        vertical-align: middle;\n",
       "    }\n",
       "\n",
       "    .dataframe tbody tr th {\n",
       "        vertical-align: top;\n",
       "    }\n",
       "\n",
       "    .dataframe thead th {\n",
       "        text-align: right;\n",
       "    }\n",
       "</style>\n",
       "<table border=\"1\" class=\"dataframe\">\n",
       "  <thead>\n",
       "    <tr style=\"text-align: right;\">\n",
       "      <th></th>\n",
       "      <th>Shipment_ID</th>\n",
       "      <th>Origin_Warehouse</th>\n",
       "      <th>Destination</th>\n",
       "      <th>Carrier</th>\n",
       "      <th>Shipment_Date</th>\n",
       "      <th>Delivery_Date</th>\n",
       "      <th>Weight_kg</th>\n",
       "      <th>Cost</th>\n",
       "      <th>Status</th>\n",
       "      <th>Distance_miles</th>\n",
       "      <th>Transit_Days</th>\n",
       "    </tr>\n",
       "  </thead>\n",
       "  <tbody>\n",
       "    <tr>\n",
       "      <th>0</th>\n",
       "      <td>SH10000</td>\n",
       "      <td>Warehouse_MIA</td>\n",
       "      <td>San Francisco</td>\n",
       "      <td>UPS</td>\n",
       "      <td>2023-10-02</td>\n",
       "      <td>2023-10-04</td>\n",
       "      <td>25.7</td>\n",
       "      <td>67.46</td>\n",
       "      <td>Delivered</td>\n",
       "      <td>291</td>\n",
       "      <td>2</td>\n",
       "    </tr>\n",
       "    <tr>\n",
       "      <th>1</th>\n",
       "      <td>SH10001</td>\n",
       "      <td>Warehouse_MIA</td>\n",
       "      <td>Atlanta</td>\n",
       "      <td>DHL</td>\n",
       "      <td>2023-12-06</td>\n",
       "      <td>2023-12-09</td>\n",
       "      <td>38.9</td>\n",
       "      <td>268.85</td>\n",
       "      <td>Delivered</td>\n",
       "      <td>1225</td>\n",
       "      <td>3</td>\n",
       "    </tr>\n",
       "    <tr>\n",
       "      <th>2</th>\n",
       "      <td>SH10002</td>\n",
       "      <td>Warehouse_LA</td>\n",
       "      <td>Houston</td>\n",
       "      <td>DHL</td>\n",
       "      <td>2023-09-18</td>\n",
       "      <td>2023-09-20</td>\n",
       "      <td>37.2</td>\n",
       "      <td>74.35</td>\n",
       "      <td>Delivered</td>\n",
       "      <td>220</td>\n",
       "      <td>2</td>\n",
       "    </tr>\n",
       "    <tr>\n",
       "      <th>3</th>\n",
       "      <td>SH10003</td>\n",
       "      <td>Warehouse_BOS</td>\n",
       "      <td>Seattle</td>\n",
       "      <td>OnTrac</td>\n",
       "      <td>2023-01-26</td>\n",
       "      <td>2023-02-04</td>\n",
       "      <td>42.6</td>\n",
       "      <td>187.04</td>\n",
       "      <td>Delivered</td>\n",
       "      <td>1156</td>\n",
       "      <td>9</td>\n",
       "    </tr>\n",
       "    <tr>\n",
       "      <th>4</th>\n",
       "      <td>SH10004</td>\n",
       "      <td>Warehouse_SF</td>\n",
       "      <td>Dallas</td>\n",
       "      <td>OnTrac</td>\n",
       "      <td>2023-06-03</td>\n",
       "      <td>2023-06-06</td>\n",
       "      <td>7.9</td>\n",
       "      <td>120.01</td>\n",
       "      <td>Delivered</td>\n",
       "      <td>1017</td>\n",
       "      <td>3</td>\n",
       "    </tr>\n",
       "    <tr>\n",
       "      <th>...</th>\n",
       "      <td>...</td>\n",
       "      <td>...</td>\n",
       "      <td>...</td>\n",
       "      <td>...</td>\n",
       "      <td>...</td>\n",
       "      <td>...</td>\n",
       "      <td>...</td>\n",
       "      <td>...</td>\n",
       "      <td>...</td>\n",
       "      <td>...</td>\n",
       "      <td>...</td>\n",
       "    </tr>\n",
       "    <tr>\n",
       "      <th>1995</th>\n",
       "      <td>SH11995</td>\n",
       "      <td>Warehouse_BOS</td>\n",
       "      <td>San Francisco</td>\n",
       "      <td>FedEx</td>\n",
       "      <td>2023-01-18</td>\n",
       "      <td>2023-01-23</td>\n",
       "      <td>7.9</td>\n",
       "      <td>217.78</td>\n",
       "      <td>Delivered</td>\n",
       "      <td>1616</td>\n",
       "      <td>5</td>\n",
       "    </tr>\n",
       "    <tr>\n",
       "      <th>1996</th>\n",
       "      <td>SH11996</td>\n",
       "      <td>Warehouse_HOU</td>\n",
       "      <td>Phoenix</td>\n",
       "      <td>UPS</td>\n",
       "      <td>2023-10-27</td>\n",
       "      <td>2023-11-01</td>\n",
       "      <td>36.5</td>\n",
       "      <td>279.47</td>\n",
       "      <td>Delivered</td>\n",
       "      <td>1708</td>\n",
       "      <td>5</td>\n",
       "    </tr>\n",
       "    <tr>\n",
       "      <th>1997</th>\n",
       "      <td>SH11997</td>\n",
       "      <td>Warehouse_HOU</td>\n",
       "      <td>Portland</td>\n",
       "      <td>LaserShip</td>\n",
       "      <td>2023-02-13</td>\n",
       "      <td>2023-02-19</td>\n",
       "      <td>11.4</td>\n",
       "      <td>250.32</td>\n",
       "      <td>Delivered</td>\n",
       "      <td>1912</td>\n",
       "      <td>6</td>\n",
       "    </tr>\n",
       "    <tr>\n",
       "      <th>1998</th>\n",
       "      <td>SH11998</td>\n",
       "      <td>Warehouse_SEA</td>\n",
       "      <td>Detroit</td>\n",
       "      <td>USPS</td>\n",
       "      <td>2023-10-17</td>\n",
       "      <td>2023-10-22</td>\n",
       "      <td>10.9</td>\n",
       "      <td>272.31</td>\n",
       "      <td>Delivered</td>\n",
       "      <td>2188</td>\n",
       "      <td>5</td>\n",
       "    </tr>\n",
       "    <tr>\n",
       "      <th>1999</th>\n",
       "      <td>SH11999</td>\n",
       "      <td>Warehouse_MIA</td>\n",
       "      <td>Portland</td>\n",
       "      <td>OnTrac</td>\n",
       "      <td>2023-07-08</td>\n",
       "      <td>2023-07-15</td>\n",
       "      <td>49.5</td>\n",
       "      <td>360.74</td>\n",
       "      <td>Delivered</td>\n",
       "      <td>2321</td>\n",
       "      <td>7</td>\n",
       "    </tr>\n",
       "  </tbody>\n",
       "</table>\n",
       "<p>2000 rows × 11 columns</p>\n",
       "</div>"
      ],
      "text/plain": [
       "     Shipment_ID Origin_Warehouse    Destination    Carrier Shipment_Date  \\\n",
       "0        SH10000    Warehouse_MIA  San Francisco        UPS    2023-10-02   \n",
       "1        SH10001    Warehouse_MIA        Atlanta        DHL    2023-12-06   \n",
       "2        SH10002     Warehouse_LA        Houston        DHL    2023-09-18   \n",
       "3        SH10003    Warehouse_BOS        Seattle     OnTrac    2023-01-26   \n",
       "4        SH10004     Warehouse_SF         Dallas     OnTrac    2023-06-03   \n",
       "...          ...              ...            ...        ...           ...   \n",
       "1995     SH11995    Warehouse_BOS  San Francisco      FedEx    2023-01-18   \n",
       "1996     SH11996    Warehouse_HOU        Phoenix        UPS    2023-10-27   \n",
       "1997     SH11997    Warehouse_HOU       Portland  LaserShip    2023-02-13   \n",
       "1998     SH11998    Warehouse_SEA        Detroit       USPS    2023-10-17   \n",
       "1999     SH11999    Warehouse_MIA       Portland     OnTrac    2023-07-08   \n",
       "\n",
       "     Delivery_Date  Weight_kg    Cost     Status  Distance_miles  Transit_Days  \n",
       "0       2023-10-04       25.7   67.46  Delivered             291             2  \n",
       "1       2023-12-09       38.9  268.85  Delivered            1225             3  \n",
       "2       2023-09-20       37.2   74.35  Delivered             220             2  \n",
       "3       2023-02-04       42.6  187.04  Delivered            1156             9  \n",
       "4       2023-06-06        7.9  120.01  Delivered            1017             3  \n",
       "...            ...        ...     ...        ...             ...           ...  \n",
       "1995    2023-01-23        7.9  217.78  Delivered            1616             5  \n",
       "1996    2023-11-01       36.5  279.47  Delivered            1708             5  \n",
       "1997    2023-02-19       11.4  250.32  Delivered            1912             6  \n",
       "1998    2023-10-22       10.9  272.31  Delivered            2188             5  \n",
       "1999    2023-07-15       49.5  360.74  Delivered            2321             7  \n",
       "\n",
       "[2000 rows x 11 columns]"
      ]
     },
     "execution_count": 13,
     "metadata": {},
     "output_type": "execute_result"
    }
   ],
   "source": [
    "df"
   ]
  },
  {
   "cell_type": "markdown",
   "id": "77e848b9",
   "metadata": {},
   "source": [
    "####  Cost"
   ]
  },
  {
   "cell_type": "raw",
   "id": "e678187c",
   "metadata": {},
   "source": [
    "On va voir les données de la variable 'Cost' si on peut remplacer les valeurs manquantes par la moyenne ou la mediane s'il y a bcp de valeurs abberantes."
   ]
  },
  {
   "cell_type": "code",
   "execution_count": 14,
   "id": "461876dc",
   "metadata": {},
   "outputs": [
    {
     "data": {
      "text/plain": [
       "196.42"
      ]
     },
     "execution_count": 14,
     "metadata": {},
     "output_type": "execute_result"
    }
   ],
   "source": [
    "df['Cost'].median()"
   ]
  },
  {
   "cell_type": "code",
   "execution_count": 15,
   "id": "4007180a",
   "metadata": {},
   "outputs": [
    {
     "data": {
      "image/png": "[encoded data removed]",
      "text/plain": [
       "<Figure size 432x288 with 1 Axes>"
      ]
     },
     "metadata": {
      "needs_background": "light"
     },
     "output_type": "display_data"
    }
   ],
   "source": [
    "sns.boxplot(df['Cost'])\n",
    "plt.ylim(0,2000)\n",
    "\n",
    "plt.show()"
   ]
  },
  {
   "cell_type": "code",
   "execution_count": 16,
   "id": "b3afd713",
   "metadata": {},
   "outputs": [],
   "source": [
    "df['Cost'] = df['Cost'].fillna(df['Cost'].median())"
   ]
  },
  {
   "cell_type": "code",
   "execution_count": 17,
   "id": "11478a4e",
   "metadata": {},
   "outputs": [
    {
     "data": {
      "text/plain": [
       "Shipment_ID         0\n",
       "Origin_Warehouse    0\n",
       "Destination         0\n",
       "Carrier             0\n",
       "Shipment_Date       0\n",
       "Delivery_Date       0\n",
       "Weight_kg           0\n",
       "Cost                0\n",
       "Status              0\n",
       "Distance_miles      0\n",
       "Transit_Days        0\n",
       "dtype: int64"
      ]
     },
     "execution_count": 17,
     "metadata": {},
     "output_type": "execute_result"
    }
   ],
   "source": [
    "df.isna().sum()"
   ]
  },
  {
   "cell_type": "code",
   "execution_count": 18,
   "id": "0dc511fa",
   "metadata": {},
   "outputs": [
    {
     "data": {
      "text/plain": [
       "0      67.46\n",
       "1     268.85\n",
       "2      74.35\n",
       "3     187.04\n",
       "4     120.01\n",
       "       ...  \n",
       "68    261.81\n",
       "69    180.20\n",
       "70     56.51\n",
       "71    196.42\n",
       "72    225.74\n",
       "Name: Cost, Length: 73, dtype: float64"
      ]
     },
     "execution_count": 18,
     "metadata": {},
     "output_type": "execute_result"
    }
   ],
   "source": [
    "df['Cost'].head(73)"
   ]
  },
  {
   "cell_type": "raw",
   "id": "b00f9953",
   "metadata": {},
   "source": [
    "Il semble qu'on puisse remplir les coûts manquants par la mediane ou la moyenne, les deux valeurs sont proches.\n",
    "Ceci est la méthode numéro 1 , la plus basique, on pourra affiner plus tard avec d'autres méthdes de remplissage des valeurs nulles."
   ]
  },
  {
   "cell_type": "markdown",
   "id": "753e142a",
   "metadata": {},
   "source": [
    "### Valeurs doubles"
   ]
  },
  {
   "cell_type": "raw",
   "id": "07e86d6f",
   "metadata": {},
   "source": [
    "On verifie juste qu'il y ait bien des valeurs distinctes en ce qui concerne les ID des marchandises"
   ]
  },
  {
   "cell_type": "code",
   "execution_count": 19,
   "id": "263bf5f2",
   "metadata": {},
   "outputs": [
    {
     "data": {
      "text/plain": [
       "0"
      ]
     },
     "execution_count": 19,
     "metadata": {},
     "output_type": "execute_result"
    }
   ],
   "source": [
    "df['Shipment_ID'].duplicated().sum()"
   ]
  },
  {
   "cell_type": "code",
   "execution_count": 20,
   "id": "d70f6a94",
   "metadata": {},
   "outputs": [
    {
     "data": {
      "text/plain": [
       "0"
      ]
     },
     "execution_count": 20,
     "metadata": {},
     "output_type": "execute_result"
    }
   ],
   "source": [
    "df.duplicated('Shipment_ID').sum()"
   ]
  },
  {
   "cell_type": "raw",
   "id": "46734c6d",
   "metadata": {},
   "source": [
    "On va peut être avoir besoin de l'ID , pour le moment on va pas le jeter !"
   ]
  },
  {
   "cell_type": "code",
   "execution_count": 21,
   "id": "b9ccdf0b",
   "metadata": {},
   "outputs": [],
   "source": [
    "#df = df.drop(columns='Shipment_ID')\n",
    "#df"
   ]
  },
  {
   "cell_type": "markdown",
   "id": "4641ee9d",
   "metadata": {},
   "source": [
    "## Partie SQL "
   ]
  },
  {
   "cell_type": "raw",
   "id": "737ba611",
   "metadata": {},
   "source": [
    "On peut transformer notre dataframe en schema relationnel (Ici on aura seulement une seule table) pour faire des opérations de SQL sur celle ci. "
   ]
  }
 ],
 "metadata": {
  "kernelspec": {
   "display_name": "Python 3",
   "language": "python",
   "name": "python3"
  },
  "language_info": {
   "codemirror_mode": {
    "name": "ipython",
    "version": 3
   },
   "file_extension": ".py",
   "mimetype": "text/x-python",
   "name": "python",
   "nbconvert_exporter": "python",
   "pygments_lexer": "ipython3",
   "version": "3.8.8"
  }
 },
 "nbformat": 4,
 "nbformat_minor": 5
}
