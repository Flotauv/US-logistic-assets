{
 "cells": [
  {
   "cell_type": "markdown",
   "id": "9269e506",
   "metadata": {},
   "source": [
    "# US logistic details operations"
   ]
  },
  {
   "cell_type": "code",
   "execution_count": 1,
   "id": "8e9b2fb5",
   "metadata": {},
   "outputs": [],
   "source": [
    "import numpy as np\n",
    "import pandas as pd\n",
    "import matplotlib.pyplot as plt\n",
    "import seaborn as sns"
   ]
  },
  {
   "cell_type": "code",
   "execution_count": 2,
   "id": "a52f7453",
   "metadata": {},
   "outputs": [],
   "source": [
    "import time\n",
    "import datetime\n",
    "import math"
   ]
  },
  {
   "cell_type": "code",
   "execution_count": 3,
   "id": "5d359631",
   "metadata": {},
   "outputs": [],
   "source": [
    "FILES = 'Dataset/logistics_shipments_dataset.csv'"
   ]
  },
  {
   "cell_type": "markdown",
   "id": "50245e33",
   "metadata": {},
   "source": [
    "## Dataset exploration"
   ]
  },
  {
   "cell_type": "code",
   "execution_count": 4,
   "id": "22db820c",
   "metadata": {},
   "outputs": [],
   "source": [
    "df = pd.read_csv(FILES)"
   ]
  },
  {
   "cell_type": "code",
   "execution_count": 5,
   "id": "dbf0d4f4",
   "metadata": {},
   "outputs": [
    {
     "data": {
      "text/html": [
       "<div>\n",
       "<style scoped>\n",
       "    .dataframe tbody tr th:only-of-type {\n",
       "        vertical-align: middle;\n",
       "    }\n",
       "\n",
       "    .dataframe tbody tr th {\n",
       "        vertical-align: top;\n",
       "    }\n",
       "\n",
       "    .dataframe thead th {\n",
       "        text-align: right;\n",
       "    }\n",
       "</style>\n",
       "<table border=\"1\" class=\"dataframe\">\n",
       "  <thead>\n",
       "    <tr style=\"text-align: right;\">\n",
       "      <th></th>\n",
       "      <th>Shipment_ID</th>\n",
       "      <th>Origin_Warehouse</th>\n",
       "      <th>Destination</th>\n",
       "      <th>Carrier</th>\n",
       "      <th>Shipment_Date</th>\n",
       "      <th>Delivery_Date</th>\n",
       "      <th>Weight_kg</th>\n",
       "      <th>Cost</th>\n",
       "      <th>Status</th>\n",
       "      <th>Distance_miles</th>\n",
       "      <th>Transit_Days</th>\n",
       "    </tr>\n",
       "  </thead>\n",
       "  <tbody>\n",
       "    <tr>\n",
       "      <th>0</th>\n",
       "      <td>SH10000</td>\n",
       "      <td>Warehouse_MIA</td>\n",
       "      <td>San Francisco</td>\n",
       "      <td>UPS</td>\n",
       "      <td>2023-10-02</td>\n",
       "      <td>2023-10-04</td>\n",
       "      <td>25.7</td>\n",
       "      <td>67.46</td>\n",
       "      <td>Delivered</td>\n",
       "      <td>291</td>\n",
       "      <td>2</td>\n",
       "    </tr>\n",
       "    <tr>\n",
       "      <th>1</th>\n",
       "      <td>SH10001</td>\n",
       "      <td>Warehouse_MIA</td>\n",
       "      <td>Atlanta</td>\n",
       "      <td>DHL</td>\n",
       "      <td>2023-12-06</td>\n",
       "      <td>2023-12-09</td>\n",
       "      <td>38.9</td>\n",
       "      <td>268.85</td>\n",
       "      <td>Delivered</td>\n",
       "      <td>1225</td>\n",
       "      <td>3</td>\n",
       "    </tr>\n",
       "    <tr>\n",
       "      <th>2</th>\n",
       "      <td>SH10002</td>\n",
       "      <td>Warehouse_LA</td>\n",
       "      <td>Houston</td>\n",
       "      <td>DHL</td>\n",
       "      <td>2023-09-18</td>\n",
       "      <td>2023-09-20</td>\n",
       "      <td>37.2</td>\n",
       "      <td>74.35</td>\n",
       "      <td>Delivered</td>\n",
       "      <td>220</td>\n",
       "      <td>2</td>\n",
       "    </tr>\n",
       "    <tr>\n",
       "      <th>3</th>\n",
       "      <td>SH10003</td>\n",
       "      <td>Warehouse_BOS</td>\n",
       "      <td>Seattle</td>\n",
       "      <td>OnTrac</td>\n",
       "      <td>2023-01-26</td>\n",
       "      <td>2023-02-04</td>\n",
       "      <td>42.6</td>\n",
       "      <td>187.04</td>\n",
       "      <td>Delivered</td>\n",
       "      <td>1156</td>\n",
       "      <td>9</td>\n",
       "    </tr>\n",
       "    <tr>\n",
       "      <th>4</th>\n",
       "      <td>SH10004</td>\n",
       "      <td>Warehouse_SF</td>\n",
       "      <td>Dallas</td>\n",
       "      <td>OnTrac</td>\n",
       "      <td>2023-06-03</td>\n",
       "      <td>2023-06-06</td>\n",
       "      <td>7.9</td>\n",
       "      <td>120.01</td>\n",
       "      <td>Delivered</td>\n",
       "      <td>1017</td>\n",
       "      <td>3</td>\n",
       "    </tr>\n",
       "    <tr>\n",
       "      <th>...</th>\n",
       "      <td>...</td>\n",
       "      <td>...</td>\n",
       "      <td>...</td>\n",
       "      <td>...</td>\n",
       "      <td>...</td>\n",
       "      <td>...</td>\n",
       "      <td>...</td>\n",
       "      <td>...</td>\n",
       "      <td>...</td>\n",
       "      <td>...</td>\n",
       "      <td>...</td>\n",
       "    </tr>\n",
       "    <tr>\n",
       "      <th>1995</th>\n",
       "      <td>SH11995</td>\n",
       "      <td>Warehouse_BOS</td>\n",
       "      <td>San Francisco</td>\n",
       "      <td>FedEx</td>\n",
       "      <td>2023-01-18</td>\n",
       "      <td>2023-01-23</td>\n",
       "      <td>7.9</td>\n",
       "      <td>217.78</td>\n",
       "      <td>Delivered</td>\n",
       "      <td>1616</td>\n",
       "      <td>5</td>\n",
       "    </tr>\n",
       "    <tr>\n",
       "      <th>1996</th>\n",
       "      <td>SH11996</td>\n",
       "      <td>Warehouse_HOU</td>\n",
       "      <td>Phoenix</td>\n",
       "      <td>UPS</td>\n",
       "      <td>2023-10-27</td>\n",
       "      <td>2023-11-01</td>\n",
       "      <td>36.5</td>\n",
       "      <td>279.47</td>\n",
       "      <td>Delivered</td>\n",
       "      <td>1708</td>\n",
       "      <td>5</td>\n",
       "    </tr>\n",
       "    <tr>\n",
       "      <th>1997</th>\n",
       "      <td>SH11997</td>\n",
       "      <td>Warehouse_HOU</td>\n",
       "      <td>Portland</td>\n",
       "      <td>LaserShip</td>\n",
       "      <td>2023-02-13</td>\n",
       "      <td>2023-02-19</td>\n",
       "      <td>11.4</td>\n",
       "      <td>250.32</td>\n",
       "      <td>Delivered</td>\n",
       "      <td>1912</td>\n",
       "      <td>6</td>\n",
       "    </tr>\n",
       "    <tr>\n",
       "      <th>1998</th>\n",
       "      <td>SH11998</td>\n",
       "      <td>Warehouse_SEA</td>\n",
       "      <td>Detroit</td>\n",
       "      <td>USPS</td>\n",
       "      <td>2023-10-17</td>\n",
       "      <td>2023-10-22</td>\n",
       "      <td>10.9</td>\n",
       "      <td>272.31</td>\n",
       "      <td>Delivered</td>\n",
       "      <td>2188</td>\n",
       "      <td>5</td>\n",
       "    </tr>\n",
       "    <tr>\n",
       "      <th>1999</th>\n",
       "      <td>SH11999</td>\n",
       "      <td>Warehouse_MIA</td>\n",
       "      <td>Portland</td>\n",
       "      <td>OnTrac</td>\n",
       "      <td>2023-07-08</td>\n",
       "      <td>NaN</td>\n",
       "      <td>49.5</td>\n",
       "      <td>360.74</td>\n",
       "      <td>Delivered</td>\n",
       "      <td>2321</td>\n",
       "      <td>7</td>\n",
       "    </tr>\n",
       "  </tbody>\n",
       "</table>\n",
       "<p>2000 rows × 11 columns</p>\n",
       "</div>"
      ],
      "text/plain": [
       "     Shipment_ID Origin_Warehouse    Destination    Carrier Shipment_Date  \\\n",
       "0        SH10000    Warehouse_MIA  San Francisco        UPS    2023-10-02   \n",
       "1        SH10001    Warehouse_MIA        Atlanta        DHL    2023-12-06   \n",
       "2        SH10002     Warehouse_LA        Houston        DHL    2023-09-18   \n",
       "3        SH10003    Warehouse_BOS        Seattle     OnTrac    2023-01-26   \n",
       "4        SH10004     Warehouse_SF         Dallas     OnTrac    2023-06-03   \n",
       "...          ...              ...            ...        ...           ...   \n",
       "1995     SH11995    Warehouse_BOS  San Francisco      FedEx    2023-01-18   \n",
       "1996     SH11996    Warehouse_HOU        Phoenix        UPS    2023-10-27   \n",
       "1997     SH11997    Warehouse_HOU       Portland  LaserShip    2023-02-13   \n",
       "1998     SH11998    Warehouse_SEA        Detroit       USPS    2023-10-17   \n",
       "1999     SH11999    Warehouse_MIA       Portland     OnTrac    2023-07-08   \n",
       "\n",
       "     Delivery_Date  Weight_kg    Cost     Status  Distance_miles  Transit_Days  \n",
       "0       2023-10-04       25.7   67.46  Delivered             291             2  \n",
       "1       2023-12-09       38.9  268.85  Delivered            1225             3  \n",
       "2       2023-09-20       37.2   74.35  Delivered             220             2  \n",
       "3       2023-02-04       42.6  187.04  Delivered            1156             9  \n",
       "4       2023-06-06        7.9  120.01  Delivered            1017             3  \n",
       "...            ...        ...     ...        ...             ...           ...  \n",
       "1995    2023-01-23        7.9  217.78  Delivered            1616             5  \n",
       "1996    2023-11-01       36.5  279.47  Delivered            1708             5  \n",
       "1997    2023-02-19       11.4  250.32  Delivered            1912             6  \n",
       "1998    2023-10-22       10.9  272.31  Delivered            2188             5  \n",
       "1999           NaN       49.5  360.74  Delivered            2321             7  \n",
       "\n",
       "[2000 rows x 11 columns]"
      ]
     },
     "execution_count": 5,
     "metadata": {},
     "output_type": "execute_result"
    }
   ],
   "source": [
    "df"
   ]
  },
  {
   "cell_type": "code",
   "execution_count": 6,
   "id": "4bb972bc",
   "metadata": {},
   "outputs": [
    {
     "name": "stdout",
     "output_type": "stream",
     "text": [
      "<class 'pandas.core.frame.DataFrame'>\n",
      "RangeIndex: 2000 entries, 0 to 1999\n",
      "Data columns (total 11 columns):\n",
      " #   Column            Non-Null Count  Dtype  \n",
      "---  ------            --------------  -----  \n",
      " 0   Shipment_ID       2000 non-null   object \n",
      " 1   Origin_Warehouse  2000 non-null   object \n",
      " 2   Destination       2000 non-null   object \n",
      " 3   Carrier           2000 non-null   object \n",
      " 4   Shipment_Date     2000 non-null   object \n",
      " 5   Delivery_Date     1968 non-null   object \n",
      " 6   Weight_kg         2000 non-null   float64\n",
      " 7   Cost              1959 non-null   float64\n",
      " 8   Status            2000 non-null   object \n",
      " 9   Distance_miles    2000 non-null   int64  \n",
      " 10  Transit_Days      2000 non-null   int64  \n",
      "dtypes: float64(2), int64(2), object(7)\n",
      "memory usage: 172.0+ KB\n"
     ]
    }
   ],
   "source": [
    "df.info()"
   ]
  },
  {
   "cell_type": "code",
   "execution_count": 7,
   "id": "821d6625",
   "metadata": {},
   "outputs": [
    {
     "data": {
      "text/plain": [
       "Shipment_ID          object\n",
       "Origin_Warehouse     object\n",
       "Destination          object\n",
       "Carrier              object\n",
       "Shipment_Date        object\n",
       "Delivery_Date        object\n",
       "Weight_kg           float64\n",
       "Cost                float64\n",
       "Status               object\n",
       "Distance_miles        int64\n",
       "Transit_Days          int64\n",
       "dtype: object"
      ]
     },
     "execution_count": 7,
     "metadata": {},
     "output_type": "execute_result"
    }
   ],
   "source": [
    "df.dtypes"
   ]
  },
  {
   "cell_type": "code",
   "execution_count": 8,
   "id": "6f21ba46",
   "metadata": {},
   "outputs": [],
   "source": [
    "df['Shipment_Date_time'] = pd.to_datetime(df['Shipment_Date'])"
   ]
  },
  {
   "cell_type": "code",
   "execution_count": 9,
   "id": "64f9695c",
   "metadata": {},
   "outputs": [
    {
     "data": {
      "text/html": [
       "<div>\n",
       "<style scoped>\n",
       "    .dataframe tbody tr th:only-of-type {\n",
       "        vertical-align: middle;\n",
       "    }\n",
       "\n",
       "    .dataframe tbody tr th {\n",
       "        vertical-align: top;\n",
       "    }\n",
       "\n",
       "    .dataframe thead th {\n",
       "        text-align: right;\n",
       "    }\n",
       "</style>\n",
       "<table border=\"1\" class=\"dataframe\">\n",
       "  <thead>\n",
       "    <tr style=\"text-align: right;\">\n",
       "      <th></th>\n",
       "      <th>Shipment_ID</th>\n",
       "      <th>Origin_Warehouse</th>\n",
       "      <th>Destination</th>\n",
       "      <th>Carrier</th>\n",
       "      <th>Shipment_Date</th>\n",
       "      <th>Delivery_Date</th>\n",
       "      <th>Weight_kg</th>\n",
       "      <th>Cost</th>\n",
       "      <th>Status</th>\n",
       "      <th>Distance_miles</th>\n",
       "      <th>Transit_Days</th>\n",
       "      <th>Shipment_Date_time</th>\n",
       "    </tr>\n",
       "  </thead>\n",
       "  <tbody>\n",
       "    <tr>\n",
       "      <th>0</th>\n",
       "      <td>SH10000</td>\n",
       "      <td>Warehouse_MIA</td>\n",
       "      <td>San Francisco</td>\n",
       "      <td>UPS</td>\n",
       "      <td>2023-10-02</td>\n",
       "      <td>2023-10-04</td>\n",
       "      <td>25.7</td>\n",
       "      <td>67.46</td>\n",
       "      <td>Delivered</td>\n",
       "      <td>291</td>\n",
       "      <td>2</td>\n",
       "      <td>2023-10-02</td>\n",
       "    </tr>\n",
       "    <tr>\n",
       "      <th>1</th>\n",
       "      <td>SH10001</td>\n",
       "      <td>Warehouse_MIA</td>\n",
       "      <td>Atlanta</td>\n",
       "      <td>DHL</td>\n",
       "      <td>2023-12-06</td>\n",
       "      <td>2023-12-09</td>\n",
       "      <td>38.9</td>\n",
       "      <td>268.85</td>\n",
       "      <td>Delivered</td>\n",
       "      <td>1225</td>\n",
       "      <td>3</td>\n",
       "      <td>2023-12-06</td>\n",
       "    </tr>\n",
       "    <tr>\n",
       "      <th>2</th>\n",
       "      <td>SH10002</td>\n",
       "      <td>Warehouse_LA</td>\n",
       "      <td>Houston</td>\n",
       "      <td>DHL</td>\n",
       "      <td>2023-09-18</td>\n",
       "      <td>2023-09-20</td>\n",
       "      <td>37.2</td>\n",
       "      <td>74.35</td>\n",
       "      <td>Delivered</td>\n",
       "      <td>220</td>\n",
       "      <td>2</td>\n",
       "      <td>2023-09-18</td>\n",
       "    </tr>\n",
       "    <tr>\n",
       "      <th>3</th>\n",
       "      <td>SH10003</td>\n",
       "      <td>Warehouse_BOS</td>\n",
       "      <td>Seattle</td>\n",
       "      <td>OnTrac</td>\n",
       "      <td>2023-01-26</td>\n",
       "      <td>2023-02-04</td>\n",
       "      <td>42.6</td>\n",
       "      <td>187.04</td>\n",
       "      <td>Delivered</td>\n",
       "      <td>1156</td>\n",
       "      <td>9</td>\n",
       "      <td>2023-01-26</td>\n",
       "    </tr>\n",
       "    <tr>\n",
       "      <th>4</th>\n",
       "      <td>SH10004</td>\n",
       "      <td>Warehouse_SF</td>\n",
       "      <td>Dallas</td>\n",
       "      <td>OnTrac</td>\n",
       "      <td>2023-06-03</td>\n",
       "      <td>2023-06-06</td>\n",
       "      <td>7.9</td>\n",
       "      <td>120.01</td>\n",
       "      <td>Delivered</td>\n",
       "      <td>1017</td>\n",
       "      <td>3</td>\n",
       "      <td>2023-06-03</td>\n",
       "    </tr>\n",
       "    <tr>\n",
       "      <th>...</th>\n",
       "      <td>...</td>\n",
       "      <td>...</td>\n",
       "      <td>...</td>\n",
       "      <td>...</td>\n",
       "      <td>...</td>\n",
       "      <td>...</td>\n",
       "      <td>...</td>\n",
       "      <td>...</td>\n",
       "      <td>...</td>\n",
       "      <td>...</td>\n",
       "      <td>...</td>\n",
       "      <td>...</td>\n",
       "    </tr>\n",
       "    <tr>\n",
       "      <th>1995</th>\n",
       "      <td>SH11995</td>\n",
       "      <td>Warehouse_BOS</td>\n",
       "      <td>San Francisco</td>\n",
       "      <td>FedEx</td>\n",
       "      <td>2023-01-18</td>\n",
       "      <td>2023-01-23</td>\n",
       "      <td>7.9</td>\n",
       "      <td>217.78</td>\n",
       "      <td>Delivered</td>\n",
       "      <td>1616</td>\n",
       "      <td>5</td>\n",
       "      <td>2023-01-18</td>\n",
       "    </tr>\n",
       "    <tr>\n",
       "      <th>1996</th>\n",
       "      <td>SH11996</td>\n",
       "      <td>Warehouse_HOU</td>\n",
       "      <td>Phoenix</td>\n",
       "      <td>UPS</td>\n",
       "      <td>2023-10-27</td>\n",
       "      <td>2023-11-01</td>\n",
       "      <td>36.5</td>\n",
       "      <td>279.47</td>\n",
       "      <td>Delivered</td>\n",
       "      <td>1708</td>\n",
       "      <td>5</td>\n",
       "      <td>2023-10-27</td>\n",
       "    </tr>\n",
       "    <tr>\n",
       "      <th>1997</th>\n",
       "      <td>SH11997</td>\n",
       "      <td>Warehouse_HOU</td>\n",
       "      <td>Portland</td>\n",
       "      <td>LaserShip</td>\n",
       "      <td>2023-02-13</td>\n",
       "      <td>2023-02-19</td>\n",
       "      <td>11.4</td>\n",
       "      <td>250.32</td>\n",
       "      <td>Delivered</td>\n",
       "      <td>1912</td>\n",
       "      <td>6</td>\n",
       "      <td>2023-02-13</td>\n",
       "    </tr>\n",
       "    <tr>\n",
       "      <th>1998</th>\n",
       "      <td>SH11998</td>\n",
       "      <td>Warehouse_SEA</td>\n",
       "      <td>Detroit</td>\n",
       "      <td>USPS</td>\n",
       "      <td>2023-10-17</td>\n",
       "      <td>2023-10-22</td>\n",
       "      <td>10.9</td>\n",
       "      <td>272.31</td>\n",
       "      <td>Delivered</td>\n",
       "      <td>2188</td>\n",
       "      <td>5</td>\n",
       "      <td>2023-10-17</td>\n",
       "    </tr>\n",
       "    <tr>\n",
       "      <th>1999</th>\n",
       "      <td>SH11999</td>\n",
       "      <td>Warehouse_MIA</td>\n",
       "      <td>Portland</td>\n",
       "      <td>OnTrac</td>\n",
       "      <td>2023-07-08</td>\n",
       "      <td>NaN</td>\n",
       "      <td>49.5</td>\n",
       "      <td>360.74</td>\n",
       "      <td>Delivered</td>\n",
       "      <td>2321</td>\n",
       "      <td>7</td>\n",
       "      <td>2023-07-08</td>\n",
       "    </tr>\n",
       "  </tbody>\n",
       "</table>\n",
       "<p>2000 rows × 12 columns</p>\n",
       "</div>"
      ],
      "text/plain": [
       "     Shipment_ID Origin_Warehouse    Destination    Carrier Shipment_Date  \\\n",
       "0        SH10000    Warehouse_MIA  San Francisco        UPS    2023-10-02   \n",
       "1        SH10001    Warehouse_MIA        Atlanta        DHL    2023-12-06   \n",
       "2        SH10002     Warehouse_LA        Houston        DHL    2023-09-18   \n",
       "3        SH10003    Warehouse_BOS        Seattle     OnTrac    2023-01-26   \n",
       "4        SH10004     Warehouse_SF         Dallas     OnTrac    2023-06-03   \n",
       "...          ...              ...            ...        ...           ...   \n",
       "1995     SH11995    Warehouse_BOS  San Francisco      FedEx    2023-01-18   \n",
       "1996     SH11996    Warehouse_HOU        Phoenix        UPS    2023-10-27   \n",
       "1997     SH11997    Warehouse_HOU       Portland  LaserShip    2023-02-13   \n",
       "1998     SH11998    Warehouse_SEA        Detroit       USPS    2023-10-17   \n",
       "1999     SH11999    Warehouse_MIA       Portland     OnTrac    2023-07-08   \n",
       "\n",
       "     Delivery_Date  Weight_kg    Cost     Status  Distance_miles  \\\n",
       "0       2023-10-04       25.7   67.46  Delivered             291   \n",
       "1       2023-12-09       38.9  268.85  Delivered            1225   \n",
       "2       2023-09-20       37.2   74.35  Delivered             220   \n",
       "3       2023-02-04       42.6  187.04  Delivered            1156   \n",
       "4       2023-06-06        7.9  120.01  Delivered            1017   \n",
       "...            ...        ...     ...        ...             ...   \n",
       "1995    2023-01-23        7.9  217.78  Delivered            1616   \n",
       "1996    2023-11-01       36.5  279.47  Delivered            1708   \n",
       "1997    2023-02-19       11.4  250.32  Delivered            1912   \n",
       "1998    2023-10-22       10.9  272.31  Delivered            2188   \n",
       "1999           NaN       49.5  360.74  Delivered            2321   \n",
       "\n",
       "      Transit_Days Shipment_Date_time  \n",
       "0                2         2023-10-02  \n",
       "1                3         2023-12-06  \n",
       "2                2         2023-09-18  \n",
       "3                9         2023-01-26  \n",
       "4                3         2023-06-03  \n",
       "...            ...                ...  \n",
       "1995             5         2023-01-18  \n",
       "1996             5         2023-10-27  \n",
       "1997             6         2023-02-13  \n",
       "1998             5         2023-10-17  \n",
       "1999             7         2023-07-08  \n",
       "\n",
       "[2000 rows x 12 columns]"
      ]
     },
     "execution_count": 9,
     "metadata": {},
     "output_type": "execute_result"
    }
   ],
   "source": [
    "df"
   ]
  },
  {
   "cell_type": "markdown",
   "id": "77bdd0f6",
   "metadata": {},
   "source": [
    "### Valeurs manquantes"
   ]
  },
  {
   "cell_type": "code",
   "execution_count": 10,
   "id": "df26a9a6",
   "metadata": {},
   "outputs": [
    {
     "data": {
      "text/plain": [
       "Shipment_ID            0\n",
       "Origin_Warehouse       0\n",
       "Destination            0\n",
       "Carrier                0\n",
       "Shipment_Date          0\n",
       "Delivery_Date         32\n",
       "Weight_kg              0\n",
       "Cost                  41\n",
       "Status                 0\n",
       "Distance_miles         0\n",
       "Transit_Days           0\n",
       "Shipment_Date_time     0\n",
       "dtype: int64"
      ]
     },
     "execution_count": 10,
     "metadata": {},
     "output_type": "execute_result"
    }
   ],
   "source": [
    "df.isna().sum()"
   ]
  },
  {
   "cell_type": "raw",
   "id": "b4094894",
   "metadata": {},
   "source": [
    "Les valeurs manquantes proviennent de deux attribus \"Delivery Date\" et \"Cost\".\n",
    "Pour ce qu'il en est de Delivery_Date , comme nous connaissons les valeurs correspondantes à \"Transit Days\", nous pouvons remplir la colonne. "
   ]
  },
  {
   "cell_type": "code",
   "execution_count": 11,
   "id": "3d23bc9c",
   "metadata": {},
   "outputs": [],
   "source": [
    "df['Delivery_Date'] = df['Shipment_Date_time']+pd.to_timedelta(df['Transit_Days'],unit='D')"
   ]
  },
  {
   "cell_type": "code",
   "execution_count": 12,
   "id": "e0c08005",
   "metadata": {},
   "outputs": [],
   "source": [
    "df = df.drop(columns = ['Shipment_Date_time'])"
   ]
  },
  {
   "cell_type": "code",
   "execution_count": 13,
   "id": "cface7b4",
   "metadata": {},
   "outputs": [
    {
     "data": {
      "text/html": [
       "<div>\n",
       "<style scoped>\n",
       "    .dataframe tbody tr th:only-of-type {\n",
       "        vertical-align: middle;\n",
       "    }\n",
       "\n",
       "    .dataframe tbody tr th {\n",
       "        vertical-align: top;\n",
       "    }\n",
       "\n",
       "    .dataframe thead th {\n",
       "        text-align: right;\n",
       "    }\n",
       "</style>\n",
       "<table border=\"1\" class=\"dataframe\">\n",
       "  <thead>\n",
       "    <tr style=\"text-align: right;\">\n",
       "      <th></th>\n",
       "      <th>Shipment_ID</th>\n",
       "      <th>Origin_Warehouse</th>\n",
       "      <th>Destination</th>\n",
       "      <th>Carrier</th>\n",
       "      <th>Shipment_Date</th>\n",
       "      <th>Delivery_Date</th>\n",
       "      <th>Weight_kg</th>\n",
       "      <th>Cost</th>\n",
       "      <th>Status</th>\n",
       "      <th>Distance_miles</th>\n",
       "      <th>Transit_Days</th>\n",
       "    </tr>\n",
       "  </thead>\n",
       "  <tbody>\n",
       "    <tr>\n",
       "      <th>0</th>\n",
       "      <td>SH10000</td>\n",
       "      <td>Warehouse_MIA</td>\n",
       "      <td>San Francisco</td>\n",
       "      <td>UPS</td>\n",
       "      <td>2023-10-02</td>\n",
       "      <td>2023-10-04</td>\n",
       "      <td>25.7</td>\n",
       "      <td>67.46</td>\n",
       "      <td>Delivered</td>\n",
       "      <td>291</td>\n",
       "      <td>2</td>\n",
       "    </tr>\n",
       "    <tr>\n",
       "      <th>1</th>\n",
       "      <td>SH10001</td>\n",
       "      <td>Warehouse_MIA</td>\n",
       "      <td>Atlanta</td>\n",
       "      <td>DHL</td>\n",
       "      <td>2023-12-06</td>\n",
       "      <td>2023-12-09</td>\n",
       "      <td>38.9</td>\n",
       "      <td>268.85</td>\n",
       "      <td>Delivered</td>\n",
       "      <td>1225</td>\n",
       "      <td>3</td>\n",
       "    </tr>\n",
       "    <tr>\n",
       "      <th>2</th>\n",
       "      <td>SH10002</td>\n",
       "      <td>Warehouse_LA</td>\n",
       "      <td>Houston</td>\n",
       "      <td>DHL</td>\n",
       "      <td>2023-09-18</td>\n",
       "      <td>2023-09-20</td>\n",
       "      <td>37.2</td>\n",
       "      <td>74.35</td>\n",
       "      <td>Delivered</td>\n",
       "      <td>220</td>\n",
       "      <td>2</td>\n",
       "    </tr>\n",
       "    <tr>\n",
       "      <th>3</th>\n",
       "      <td>SH10003</td>\n",
       "      <td>Warehouse_BOS</td>\n",
       "      <td>Seattle</td>\n",
       "      <td>OnTrac</td>\n",
       "      <td>2023-01-26</td>\n",
       "      <td>2023-02-04</td>\n",
       "      <td>42.6</td>\n",
       "      <td>187.04</td>\n",
       "      <td>Delivered</td>\n",
       "      <td>1156</td>\n",
       "      <td>9</td>\n",
       "    </tr>\n",
       "    <tr>\n",
       "      <th>4</th>\n",
       "      <td>SH10004</td>\n",
       "      <td>Warehouse_SF</td>\n",
       "      <td>Dallas</td>\n",
       "      <td>OnTrac</td>\n",
       "      <td>2023-06-03</td>\n",
       "      <td>2023-06-06</td>\n",
       "      <td>7.9</td>\n",
       "      <td>120.01</td>\n",
       "      <td>Delivered</td>\n",
       "      <td>1017</td>\n",
       "      <td>3</td>\n",
       "    </tr>\n",
       "    <tr>\n",
       "      <th>...</th>\n",
       "      <td>...</td>\n",
       "      <td>...</td>\n",
       "      <td>...</td>\n",
       "      <td>...</td>\n",
       "      <td>...</td>\n",
       "      <td>...</td>\n",
       "      <td>...</td>\n",
       "      <td>...</td>\n",
       "      <td>...</td>\n",
       "      <td>...</td>\n",
       "      <td>...</td>\n",
       "    </tr>\n",
       "    <tr>\n",
       "      <th>1995</th>\n",
       "      <td>SH11995</td>\n",
       "      <td>Warehouse_BOS</td>\n",
       "      <td>San Francisco</td>\n",
       "      <td>FedEx</td>\n",
       "      <td>2023-01-18</td>\n",
       "      <td>2023-01-23</td>\n",
       "      <td>7.9</td>\n",
       "      <td>217.78</td>\n",
       "      <td>Delivered</td>\n",
       "      <td>1616</td>\n",
       "      <td>5</td>\n",
       "    </tr>\n",
       "    <tr>\n",
       "      <th>1996</th>\n",
       "      <td>SH11996</td>\n",
       "      <td>Warehouse_HOU</td>\n",
       "      <td>Phoenix</td>\n",
       "      <td>UPS</td>\n",
       "      <td>2023-10-27</td>\n",
       "      <td>2023-11-01</td>\n",
       "      <td>36.5</td>\n",
       "      <td>279.47</td>\n",
       "      <td>Delivered</td>\n",
       "      <td>1708</td>\n",
       "      <td>5</td>\n",
       "    </tr>\n",
       "    <tr>\n",
       "      <th>1997</th>\n",
       "      <td>SH11997</td>\n",
       "      <td>Warehouse_HOU</td>\n",
       "      <td>Portland</td>\n",
       "      <td>LaserShip</td>\n",
       "      <td>2023-02-13</td>\n",
       "      <td>2023-02-19</td>\n",
       "      <td>11.4</td>\n",
       "      <td>250.32</td>\n",
       "      <td>Delivered</td>\n",
       "      <td>1912</td>\n",
       "      <td>6</td>\n",
       "    </tr>\n",
       "    <tr>\n",
       "      <th>1998</th>\n",
       "      <td>SH11998</td>\n",
       "      <td>Warehouse_SEA</td>\n",
       "      <td>Detroit</td>\n",
       "      <td>USPS</td>\n",
       "      <td>2023-10-17</td>\n",
       "      <td>2023-10-22</td>\n",
       "      <td>10.9</td>\n",
       "      <td>272.31</td>\n",
       "      <td>Delivered</td>\n",
       "      <td>2188</td>\n",
       "      <td>5</td>\n",
       "    </tr>\n",
       "    <tr>\n",
       "      <th>1999</th>\n",
       "      <td>SH11999</td>\n",
       "      <td>Warehouse_MIA</td>\n",
       "      <td>Portland</td>\n",
       "      <td>OnTrac</td>\n",
       "      <td>2023-07-08</td>\n",
       "      <td>2023-07-15</td>\n",
       "      <td>49.5</td>\n",
       "      <td>360.74</td>\n",
       "      <td>Delivered</td>\n",
       "      <td>2321</td>\n",
       "      <td>7</td>\n",
       "    </tr>\n",
       "  </tbody>\n",
       "</table>\n",
       "<p>2000 rows × 11 columns</p>\n",
       "</div>"
      ],
      "text/plain": [
       "     Shipment_ID Origin_Warehouse    Destination    Carrier Shipment_Date  \\\n",
       "0        SH10000    Warehouse_MIA  San Francisco        UPS    2023-10-02   \n",
       "1        SH10001    Warehouse_MIA        Atlanta        DHL    2023-12-06   \n",
       "2        SH10002     Warehouse_LA        Houston        DHL    2023-09-18   \n",
       "3        SH10003    Warehouse_BOS        Seattle     OnTrac    2023-01-26   \n",
       "4        SH10004     Warehouse_SF         Dallas     OnTrac    2023-06-03   \n",
       "...          ...              ...            ...        ...           ...   \n",
       "1995     SH11995    Warehouse_BOS  San Francisco      FedEx    2023-01-18   \n",
       "1996     SH11996    Warehouse_HOU        Phoenix        UPS    2023-10-27   \n",
       "1997     SH11997    Warehouse_HOU       Portland  LaserShip    2023-02-13   \n",
       "1998     SH11998    Warehouse_SEA        Detroit       USPS    2023-10-17   \n",
       "1999     SH11999    Warehouse_MIA       Portland     OnTrac    2023-07-08   \n",
       "\n",
       "     Delivery_Date  Weight_kg    Cost     Status  Distance_miles  Transit_Days  \n",
       "0       2023-10-04       25.7   67.46  Delivered             291             2  \n",
       "1       2023-12-09       38.9  268.85  Delivered            1225             3  \n",
       "2       2023-09-20       37.2   74.35  Delivered             220             2  \n",
       "3       2023-02-04       42.6  187.04  Delivered            1156             9  \n",
       "4       2023-06-06        7.9  120.01  Delivered            1017             3  \n",
       "...            ...        ...     ...        ...             ...           ...  \n",
       "1995    2023-01-23        7.9  217.78  Delivered            1616             5  \n",
       "1996    2023-11-01       36.5  279.47  Delivered            1708             5  \n",
       "1997    2023-02-19       11.4  250.32  Delivered            1912             6  \n",
       "1998    2023-10-22       10.9  272.31  Delivered            2188             5  \n",
       "1999    2023-07-15       49.5  360.74  Delivered            2321             7  \n",
       "\n",
       "[2000 rows x 11 columns]"
      ]
     },
     "execution_count": 13,
     "metadata": {},
     "output_type": "execute_result"
    }
   ],
   "source": [
    "df"
   ]
  },
  {
   "cell_type": "markdown",
   "id": "75e76ee0",
   "metadata": {},
   "source": [
    "####  Cost"
   ]
  },
  {
   "cell_type": "raw",
   "id": "55995fd0",
   "metadata": {},
   "source": [
    "On va voir les données de la variable 'Cost' si on peut remplacer les valeurs manquantes par la moyenne ou la mediane s'il y a bcp de valeurs abberantes."
   ]
  },
  {
   "cell_type": "code",
   "execution_count": 14,
   "id": "75f90ecd",
   "metadata": {},
   "outputs": [
    {
     "data": {
      "text/plain": [
       "196.42"
      ]
     },
     "execution_count": 14,
     "metadata": {},
     "output_type": "execute_result"
    }
   ],
   "source": []
  },
  {
   "cell_type": "code",
   "execution_count": 15,
   "id": "925a5d0d",
   "metadata": {},
   "outputs": [
    {
     "data": {
      "image/png": "[encoded data removed]",
      "text/plain": [
       "<Figure size 432x288 with 1 Axes>"
      ]
     },
     "metadata": {
      "needs_background": "light"
     },
     "output_type": "display_data"
    }
   ],
   "source": [
    "sns.boxplot(df['Cost'])\n",
    "plt.ylim(0,2000)\n",
    "\n",
    "plt.show()"
   ]
  },
  {
   "cell_type": "code",
   "execution_count": 16,
   "id": "4a92f01b",
   "metadata": {},
   "outputs": [],
   "source": [
    "df['Cost'] = df['Cost'].fillna(df['Cost'].median())"
   ]
  },
  {
   "cell_type": "code",
   "execution_count": 17,
   "id": "e1053769",
   "metadata": {},
   "outputs": [
    {
     "data": {
      "text/plain": [
       "Shipment_ID         0\n",
       "Origin_Warehouse    0\n",
       "Destination         0\n",
       "Carrier             0\n",
       "Shipment_Date       0\n",
       "Delivery_Date       0\n",
       "Weight_kg           0\n",
       "Cost                0\n",
       "Status              0\n",
       "Distance_miles      0\n",
       "Transit_Days        0\n",
       "dtype: int64"
      ]
     },
     "execution_count": 17,
     "metadata": {},
     "output_type": "execute_result"
    }
   ],
   "source": [
    "df.isna().sum()"
   ]
  },
  {
   "cell_type": "raw",
   "id": "1ffed884",
   "metadata": {},
   "source": [
    "Il semble qu'on puisse remplir les coûts manquants par la mediane ou la moyenne, les deux valeurs sont proches.\n",
    "Ceci est la méthode numéro 1 , la plus basique, on pourra affiner plus tard avec d'autres méthdes de remplissage des valeurs nulles."
   ]
  },
  {
   "cell_type": "markdown",
   "id": "b53962ca",
   "metadata": {},
   "source": [
    "### Valeurs doubles"
   ]
  },
  {
   "cell_type": "raw",
   "id": "b867868b",
   "metadata": {},
   "source": [
    "On verifie juste qu'il y ait bien des valeurs distinctes en ce qui concerne les ID des marchandises"
   ]
  },
  {
   "cell_type": "code",
   "execution_count": 19,
   "id": "d779167f",
   "metadata": {},
   "outputs": [
    {
     "data": {
      "text/plain": [
       "0"
      ]
     },
     "execution_count": 19,
     "metadata": {},
     "output_type": "execute_result"
    }
   ],
   "source": [
    "df['Shipment_ID'].duplicated().sum()"
   ]
  },
  {
   "cell_type": "code",
   "execution_count": 20,
   "id": "0cd8ceff",
   "metadata": {},
   "outputs": [
    {
     "data": {
      "text/plain": [
       "0"
      ]
     },
     "execution_count": 20,
     "metadata": {},
     "output_type": "execute_result"
    }
   ],
   "source": [
    "df.duplicated('Shipment_ID').sum()"
   ]
  },
  {
   "cell_type": "raw",
   "id": "ab867993",
   "metadata": {},
   "source": [
    "On va peut être avoir besoin de l'ID , pour le moment on va pas le jeter !"
   ]
  },
  {
   "cell_type": "code",
   "execution_count": 21,
   "id": "73d09636",
   "metadata": {},
   "outputs": [],
   "source": [
    "#df = df.drop(columns='Shipment_ID')\n",
    "#df"
   ]
  },
  {
   "cell_type": "markdown",
   "id": "8cf0d454",
   "metadata": {},
   "source": [
    "## Analyse bivariée"
   ]
  },
  {
   "cell_type": "markdown",
   "id": "1f5aef2d",
   "metadata": {},
   "source": [
    "### Matrice de corrélation "
   ]
  },
  {
   "cell_type": "code",
   "execution_count": 25,
   "id": "9f5dee52",
   "metadata": {},
   "outputs": [],
   "source": [
    "df_int = df.select_dtypes(exclude=['object','datetime64'])"
   ]
  },
  {
   "cell_type": "raw",
   "id": "2a442762",
   "metadata": {},
   "source": [
    "Exclusion des colonnes de types 'object' c'est à dire des variables qualitatives."
   ]
  },
  {
   "cell_type": "code",
   "execution_count": 35,
   "id": "8680bcbb",
   "metadata": {},
   "outputs": [],
   "source": [
    "corr_matrix = abs(df_int.corr())"
   ]
  },
  {
   "cell_type": "code",
   "execution_count": 36,
   "id": "73e274ea",
   "metadata": {},
   "outputs": [
    {
     "data": {
      "text/plain": [
       "<Axes: >"
      ]
     },
     "execution_count": 36,
     "metadata": {},
     "output_type": "execute_result"
    },
    {
     "data": {
      "image/png": "[encoded data removed]",
      "text/plain": [
       "<Figure size 720x576 with 2 Axes>"
      ]
     },
     "metadata": {
      "needs_background": "light"
     },
     "output_type": "display_data"
    }
   ],
   "source": [
    "plt.figure(figsize=(10,8))\n",
    "sns.heatmap(corr_matrix,annot=True)"
   ]
  },
  {
   "cell_type": "markdown",
   "id": "612c72a3",
   "metadata": {},
   "source": [
    "### Tests d'indépendance"
   ]
  },
  {
   "cell_type": "raw",
   "id": "86cd1bb7",
   "metadata": {},
   "source": [
    "La matrice de corrélation n'indique pas si deux variables sont corrélées ou pas corrélées peu importe leur signe.\n",
    "Elle indique la prépondérance de leur relation affine sur les variations des deux variables.\n",
    "\n",
    "Ce qui veut dire que entre [0.5,1] (valeur absolue) on a une relation d'augmentation ou de diminution d'une des variables si l'autre augmente ou diminue.\n",
    "\n",
    "Dans notre cas, la corrélation affine n'est pas explicitement indiquée (0.43 et 0.34) , on va utiliser les tests d'indépendance."
   ]
  },
  {
   "cell_type": "raw",
   "id": "2b2a74ba",
   "metadata": {},
   "source": [
    "Le test du Chi2 permet de faire des tests de :\n",
    "    - **Independance** : Rejeter ou non l'hypothèse que deux variables sont indépendantes\n",
    "    - Adequation : Deux variables suivent-elles une loi normale \n",
    "    - Homogénéité : deux séries de données sont-elles identiquement distribuées?\n",
    "    "
   ]
  },
  {
   "cell_type": "code",
   "execution_count": 33,
   "id": "00d423f4",
   "metadata": {},
   "outputs": [],
   "source": [
    "from scipy.stats import chi2_contingency, chi2"
   ]
  },
  {
   "cell_type": "code",
   "execution_count": 38,
   "id": "fc103a45",
   "metadata": {},
   "outputs": [],
   "source": [
    "alpha = 0.05"
   ]
  },
  {
   "cell_type": "code",
   "execution_count": 39,
   "id": "fed3eaaf",
   "metadata": {},
   "outputs": [
    {
     "name": "stdout",
     "output_type": "stream",
     "text": [
      "La statistique de Pearson du test khi-deux est :  7.705084846521839 \n",
      "La p-valeur du test est :  0.5641179080909389 \n",
      "\n",
      "Le quantile de la loi du chi 2 à 1 degré de liberté associé au niveau de confiance 0.05 est 3.841458820694124\n"
     ]
    }
   ],
   "source": [
    "chi_squared_result=chi2_contingency(corr_matrix)\n",
    "\n",
    "\n",
    "print(\"La statistique de Pearson du test khi-deux est : \", chi_squared_result[0], \"\\n\"\n",
    "      \"La p-valeur du test est : \", chi_squared_result[1], \"\\n\")\n",
    "print(\"Le quantile de la loi du chi 2 à 1 degré de liberté associé au niveau de confiance\",alpha,\"est\",chi2.ppf(1-alpha, 1))"
   ]
  },
  {
   "cell_type": "markdown",
   "id": "196324f8",
   "metadata": {},
   "source": [
    "#### T Test "
   ]
  },
  {
   "cell_type": "raw",
   "id": "ade2aadc",
   "metadata": {},
   "source": [
    "Le test du Chi2 n'est pas fait pour tester l'indépendance entre deux variables quantitatives"
   ]
  },
  {
   "cell_type": "code",
   "execution_count": 43,
   "id": "910ec737",
   "metadata": {},
   "outputs": [],
   "source": [
    "from scipy.stats import ttest_ind"
   ]
  },
  {
   "cell_type": "code",
   "execution_count": 44,
   "id": "d46ca495",
   "metadata": {},
   "outputs": [
    {
     "data": {
      "text/plain": [
       "Ttest_indResult(statistic=-65.99975669202418, pvalue=0.0)"
      ]
     },
     "execution_count": 44,
     "metadata": {},
     "output_type": "execute_result"
    }
   ],
   "source": [
    "ttest_ind(df['Cost'],df['Distance_miles'],equal_var=False)"
   ]
  },
  {
   "cell_type": "markdown",
   "id": "eb66c7f8",
   "metadata": {},
   "source": [
    "#### Test de Shapiro "
   ]
  },
  {
   "cell_type": "code",
   "execution_count": 41,
   "id": "270bc2d2",
   "metadata": {},
   "outputs": [],
   "source": [
    "from scipy.stats import shapiro"
   ]
  },
  {
   "cell_type": "code",
   "execution_count": null,
   "id": "28d44c0e",
   "metadata": {},
   "outputs": [],
   "source": []
  },
  {
   "cell_type": "raw",
   "id": "ba76f5cf",
   "metadata": {},
   "source": [
    "Le test de Shapiro permet de rejeter l'hyphotèse ou non H0 : La distribution de la variable suit une loi normale ou non avec un risque de première espèce alpha de 5%"
   ]
  },
  {
   "cell_type": "markdown",
   "id": "3102e48e",
   "metadata": {},
   "source": [
    "#### Rappel : p-valeur"
   ]
  },
  {
   "cell_type": "raw",
   "id": "73cc6c0d",
   "metadata": {},
   "source": [
    "Dans un monde où H0 est vraie, c'est le % de chance de rejeter H0 alors que H0 est vrai (risque de première espece) appliquée aux données réelles et à un test statistique.\n",
    "Si pvalue<alpha : On peut rejeter H0 (mais on ne peut dire que H0 est faux)"
   ]
  },
  {
   "cell_type": "markdown",
   "id": "61a975ca",
   "metadata": {},
   "source": [
    "## Partie SQL "
   ]
  },
  {
   "cell_type": "raw",
   "id": "680fb06b",
   "metadata": {},
   "source": [
    "On peut transformer notre dataframe en schema relationnel (Ici on aura seulement une seule table) pour faire des opérations de SQL sur celle ci. "
   ]
  }
 ],
 "metadata": {
  "kernelspec": {
   "display_name": "Python 3",
   "language": "python",
   "name": "python3"
  },
  "language_info": {
   "codemirror_mode": {
    "name": "ipython",
    "version": 3
   },
   "file_extension": ".py",
   "mimetype": "text/x-python",
   "name": "python",
   "nbconvert_exporter": "python",
   "pygments_lexer": "ipython3",
   "version": "3.8.8"
  }
 },
 "nbformat": 4,
 "nbformat_minor": 5
}
